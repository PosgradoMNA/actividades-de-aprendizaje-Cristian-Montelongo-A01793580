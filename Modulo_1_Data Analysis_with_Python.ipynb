{
 "cells": [
  {
   "cell_type": "markdown",
   "id": "c944232f",
   "metadata": {},
   "source": [
    "\n",
    "# Modulo 1 Data Analysis with Python\n",
    "\n",
    "## Graded Review Questions Instructions\n",
    "\n",
    "**Question 1\n",
    "What does CSV stand for?** \n",
    "\n",
    "Answer: Comma-separated values\n",
    "\n",
    "\n",
    "**Question 2\n",
    "In the data set, which of the following represents an attribute or feature?**\n",
    "\n",
    "Aswer: Column\n",
    "\n",
    "**Question 3\n",
    "What is the name of what we want to predict?**\n",
    "\n",
    "Answer: Target\n",
    "\n",
    "**Question 4\n",
    "What is the command to display the first five rows of a dataframe df?**\n",
    "\n",
    "Answer: df.head()\n",
    "\n",
    "**Question 5\n",
    "What command do you use to get the data type of each row of the dataframe df?**\n",
    "\n",
    "Answer: df.dtypes\n",
    "\n",
    "**Question 6\n",
    "How do you get a statistical summary of a dataframe df?**\n",
    "\n",
    "Answer: df.describe()\n",
    "\n",
    "**Question 7\n",
    "If you use the method describe() without changing any of the arguments, you will get a statistical summary of all the columns of type \"object\".**\n",
    "\n",
    "Answer: False\n",
    "\n",
    "\n",
    "\n"
   ]
  }
 ],
 "metadata": {
  "kernelspec": {
   "display_name": "Python 3 (ipykernel)",
   "language": "python",
   "name": "python3"
  },
  "language_info": {
   "codemirror_mode": {
    "name": "ipython",
    "version": 3
   },
   "file_extension": ".py",
   "mimetype": "text/x-python",
   "name": "python",
   "nbconvert_exporter": "python",
   "pygments_lexer": "ipython3",
   "version": "3.9.12"
  }
 },
 "nbformat": 4,
 "nbformat_minor": 5
}
