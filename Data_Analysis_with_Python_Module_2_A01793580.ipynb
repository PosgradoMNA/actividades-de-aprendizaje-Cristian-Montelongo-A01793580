{
 "cells": [
  {
   "cell_type": "markdown",
   "id": "fe29c35f",
   "metadata": {},
   "source": [
    "# Data Analysis- Module 2"
   ]
  },
  {
   "cell_type": "markdown",
   "id": "70f83f2e",
   "metadata": {},
   "source": [
    "**Question 1**\n",
    "\n",
    "Consider the dataframe df. What is the result of the following operation: df['symbolling'] = df['symbolling'] + 1?\n",
    "\n",
    "**Answer:** Every element in the column \"symbolling\" will increase by one."
   ]
  },
  {
   "cell_type": "markdown",
   "id": "50581f52",
   "metadata": {},
   "source": [
    "**Question 2**\n",
    "\n",
    "Consider the dataframe df. What does the command df.rename(columns={'a':'b'}) change about the dataframe df?\n",
    "\n",
    "**Answer:** Nothing. You must set the parameter \"inplace = True\"."
   ]
  },
  {
   "cell_type": "markdown",
   "id": "5f70ca43",
   "metadata": {},
   "source": [
    "**Question 3**\n",
    "\n",
    "Consider the dataframe \"df\". What is the result of the following operation df['price'] = df['price'].astype(int)?\n",
    "\n",
    "**Answer:** Convert or cast the column 'price' to an integer value."
   ]
  },
  {
   "cell_type": "markdown",
   "id": "0e15802d",
   "metadata": {},
   "source": [
    "**Question 4**\n",
    "\n",
    "Consider the column of the dataframe df['a']. The column has been standardized. What is the standard deviation of the values as a result of applying the following operation: df['a'].std()?\n",
    "\n",
    "**Answer:** 1"
   ]
  },
  {
   "cell_type": "markdown",
   "id": "e79ed962",
   "metadata": {},
   "source": [
    "**Question 5 a)**\n",
    "\n",
    "Consider the column of the dataframe, df['Fuel'], with two values: 'gas' and' diesel'. What will be the name of the new columns pd.get_dumies(df['Fuel']) ?\n",
    "\n",
    "**Answer:** 'gas' and 'diesel'"
   ]
  },
  {
   "cell_type": "markdown",
   "id": "511ca2d0",
   "metadata": {},
   "source": [
    "**Question 5 b)**\n",
    "\n",
    "What are the values of the new columns from part 5a)?\n",
    "\n",
    "**Answer:** 1 and 0"
   ]
  }
 ],
 "metadata": {
  "kernelspec": {
   "display_name": "Python 3 (ipykernel)",
   "language": "python",
   "name": "python3"
  },
  "language_info": {
   "codemirror_mode": {
    "name": "ipython",
    "version": 3
   },
   "file_extension": ".py",
   "mimetype": "text/x-python",
   "name": "python",
   "nbconvert_exporter": "python",
   "pygments_lexer": "ipython3",
   "version": "3.9.12"
  }
 },
 "nbformat": 4,
 "nbformat_minor": 5
}
