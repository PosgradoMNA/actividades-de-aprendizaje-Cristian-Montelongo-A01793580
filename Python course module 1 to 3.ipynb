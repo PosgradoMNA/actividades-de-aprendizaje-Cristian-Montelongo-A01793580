{
 "cells": [
  {
   "cell_type": "markdown",
   "id": "fc77f316",
   "metadata": {},
   "source": [
    "# Module 1\n",
    "- Python Basics"
   ]
  },
  {
   "cell_type": "code",
   "execution_count": 1,
   "id": "b7416068",
   "metadata": {},
   "outputs": [
    {
     "name": "stdout",
     "output_type": "stream",
     "text": [
      "Hello Python 101\n"
     ]
    }
   ],
   "source": [
    "print(\"Hello Python 101\")"
   ]
  },
  {
   "cell_type": "markdown",
   "id": "0a28605c",
   "metadata": {},
   "source": [
    "String"
   ]
  },
  {
   "cell_type": "code",
   "execution_count": 2,
   "id": "6631b2fb",
   "metadata": {},
   "outputs": [
    {
     "data": {
      "text/plain": [
       "str"
      ]
     },
     "execution_count": 2,
     "metadata": {},
     "output_type": "execute_result"
    }
   ],
   "source": [
    "type(\"Hello\")"
   ]
  },
  {
   "cell_type": "markdown",
   "id": "6fdb437f",
   "metadata": {},
   "source": [
    "Integer"
   ]
  },
  {
   "cell_type": "code",
   "execution_count": 3,
   "id": "bfe9919f",
   "metadata": {},
   "outputs": [
    {
     "data": {
      "text/plain": [
       "int"
      ]
     },
     "execution_count": 3,
     "metadata": {},
     "output_type": "execute_result"
    }
   ],
   "source": [
    "type(2)"
   ]
  },
  {
   "cell_type": "markdown",
   "id": "29fc9fbe",
   "metadata": {},
   "source": [
    "Float"
   ]
  },
  {
   "cell_type": "code",
   "execution_count": 4,
   "id": "a6f413ca",
   "metadata": {},
   "outputs": [
    {
     "data": {
      "text/plain": [
       "float"
      ]
     },
     "execution_count": 4,
     "metadata": {},
     "output_type": "execute_result"
    }
   ],
   "source": [
    "type(1.0)"
   ]
  },
  {
   "cell_type": "markdown",
   "id": "f17205de",
   "metadata": {},
   "source": [
    "Boolean"
   ]
  },
  {
   "cell_type": "code",
   "execution_count": 5,
   "id": "aa83bc2d",
   "metadata": {},
   "outputs": [
    {
     "data": {
      "text/plain": [
       "bool"
      ]
     },
     "execution_count": 5,
     "metadata": {},
     "output_type": "execute_result"
    }
   ],
   "source": [
    "type(True)"
   ]
  },
  {
   "cell_type": "markdown",
   "id": "2afb4387",
   "metadata": {},
   "source": [
    "Mathematical operations"
   ]
  },
  {
   "cell_type": "code",
   "execution_count": 11,
   "id": "63478132",
   "metadata": {},
   "outputs": [
    {
     "data": {
      "text/plain": [
       "75"
      ]
     },
     "execution_count": 11,
     "metadata": {},
     "output_type": "execute_result"
    }
   ],
   "source": [
    "25*3\n"
   ]
  },
  {
   "cell_type": "code",
   "execution_count": 16,
   "id": "109f7931",
   "metadata": {},
   "outputs": [
    {
     "data": {
      "text/plain": [
       "54"
      ]
     },
     "execution_count": 16,
     "metadata": {},
     "output_type": "execute_result"
    }
   ],
   "source": [
    "50+4"
   ]
  },
  {
   "cell_type": "code",
   "execution_count": 17,
   "id": "6c13cf63",
   "metadata": {},
   "outputs": [
    {
     "data": {
      "text/plain": [
       "38"
      ]
     },
     "execution_count": 17,
     "metadata": {},
     "output_type": "execute_result"
    }
   ],
   "source": [
    "3+5*7"
   ]
  },
  {
   "cell_type": "markdown",
   "id": "99bd88d7",
   "metadata": {},
   "source": [
    "Variables"
   ]
  },
  {
   "cell_type": "code",
   "execution_count": 23,
   "id": "cdef9c22",
   "metadata": {},
   "outputs": [
    {
     "data": {
      "text/plain": [
       "50"
      ]
     },
     "execution_count": 23,
     "metadata": {},
     "output_type": "execute_result"
    }
   ],
   "source": [
    "x= 50\n",
    "x"
   ]
  },
  {
   "cell_type": "code",
   "execution_count": 24,
   "id": "be08712d",
   "metadata": {},
   "outputs": [
    {
     "data": {
      "text/plain": [
       "150"
      ]
     },
     "execution_count": 24,
     "metadata": {},
     "output_type": "execute_result"
    }
   ],
   "source": [
    "y=x*3\n",
    "y"
   ]
  },
  {
   "cell_type": "code",
   "execution_count": 26,
   "id": "5c56bf06",
   "metadata": {},
   "outputs": [
    {
     "data": {
      "text/plain": [
       "142"
      ]
     },
     "execution_count": 26,
     "metadata": {},
     "output_type": "execute_result"
    }
   ],
   "source": [
    "total_min =43+42+57\n",
    "total_min"
   ]
  },
  {
   "cell_type": "code",
   "execution_count": 27,
   "id": "f5fc4f04",
   "metadata": {},
   "outputs": [
    {
     "data": {
      "text/plain": [
       "2.3666666666666667"
      ]
     },
     "execution_count": 27,
     "metadata": {},
     "output_type": "execute_result"
    }
   ],
   "source": [
    "total_hr=total_min/60\n",
    "total_hr"
   ]
  },
  {
   "cell_type": "code",
   "execution_count": 29,
   "id": "d6d43b51",
   "metadata": {},
   "outputs": [
    {
     "name": "stdout",
     "output_type": "stream",
     "text": [
      "2\n"
     ]
    }
   ],
   "source": [
    "print(int(total_hr))"
   ]
  },
  {
   "cell_type": "markdown",
   "id": "f4232e55",
   "metadata": {},
   "source": [
    "Review Question 1\n",
    "\n",
    "What is the result of the following operation in Python:"
   ]
  },
  {
   "cell_type": "code",
   "execution_count": 30,
   "id": "8afda7cc",
   "metadata": {},
   "outputs": [
    {
     "data": {
      "text/plain": [
       "7"
      ]
     },
     "execution_count": 30,
     "metadata": {},
     "output_type": "execute_result"
    }
   ],
   "source": [
    "3 + 2 * 2"
   ]
  },
  {
   "cell_type": "markdown",
   "id": "dd97a2d3",
   "metadata": {},
   "source": [
    "Review Question 2\n",
    "\n",
    "In Python, if you executed name = 'Lizz', what would be the output of print(name[0:2])?"
   ]
  },
  {
   "cell_type": "code",
   "execution_count": 32,
   "id": "e11ed7ac",
   "metadata": {},
   "outputs": [
    {
     "name": "stdout",
     "output_type": "stream",
     "text": [
      "Li\n"
     ]
    }
   ],
   "source": [
    "name= 'Lizz'\n",
    "print(name[0:2])"
   ]
  },
  {
   "cell_type": "markdown",
   "id": "9ff8ae26",
   "metadata": {},
   "source": [
    "Review Question 3\n",
    "\n",
    "In Python, if you executed var = '01234567', what would be the result of print(var[::2])?"
   ]
  },
  {
   "cell_type": "code",
   "execution_count": 33,
   "id": "0ee2b407",
   "metadata": {},
   "outputs": [
    {
     "name": "stdout",
     "output_type": "stream",
     "text": [
      "0246\n"
     ]
    }
   ],
   "source": [
    "var='01234567'\n",
    "print(var[::2])"
   ]
  },
  {
   "cell_type": "markdown",
   "id": "57741161",
   "metadata": {},
   "source": [
    "Review Question 4\n",
    "\n",
    "In Python, what is the result of the following operation '1'+'2'?"
   ]
  },
  {
   "cell_type": "code",
   "execution_count": 34,
   "id": "d20f6515",
   "metadata": {},
   "outputs": [
    {
     "data": {
      "text/plain": [
       "'12'"
      ]
     },
     "execution_count": 34,
     "metadata": {},
     "output_type": "execute_result"
    }
   ],
   "source": [
    "'1'+'2'"
   ]
  },
  {
   "cell_type": "markdown",
   "id": "70f924cf",
   "metadata": {},
   "source": [
    "Review Question 5\n",
    "\n",
    "Given myvar = 'hello', how would you convert myvar into uppercase?"
   ]
  },
  {
   "cell_type": "code",
   "execution_count": 37,
   "id": "91e2e60f",
   "metadata": {},
   "outputs": [
    {
     "data": {
      "text/plain": [
       "'HELLO'"
      ]
     },
     "execution_count": 37,
     "metadata": {},
     "output_type": "execute_result"
    }
   ],
   "source": [
    "myvar = 'hello'\n",
    "myvar.upper()"
   ]
  },
  {
   "cell_type": "markdown",
   "id": "afdeb70f",
   "metadata": {},
   "source": [
    "# Module 2\n",
    "- Python Data Structures"
   ]
  },
  {
   "cell_type": "markdown",
   "id": "f9e08c2f",
   "metadata": {},
   "source": [
    "Tuples"
   ]
  },
  {
   "cell_type": "code",
   "execution_count": 45,
   "id": "35a72fdc",
   "metadata": {},
   "outputs": [
    {
     "data": {
      "text/plain": [
       "('disco', 10, 1.2)"
      ]
     },
     "execution_count": 45,
     "metadata": {},
     "output_type": "execute_result"
    }
   ],
   "source": [
    "tuple1 =(\"disco\",10,1.2)\n",
    "tuple1"
   ]
  },
  {
   "cell_type": "code",
   "execution_count": 54,
   "id": "bcf52c3d",
   "metadata": {},
   "outputs": [
    {
     "name": "stdout",
     "output_type": "stream",
     "text": [
      "disco\n"
     ]
    }
   ],
   "source": [
    "print(tuple1[0])"
   ]
  },
  {
   "cell_type": "code",
   "execution_count": 58,
   "id": "327faf06",
   "metadata": {},
   "outputs": [
    {
     "data": {
      "text/plain": [
       "('disco', 10, 1.2, 'Hard rock', 10)"
      ]
     },
     "execution_count": 58,
     "metadata": {},
     "output_type": "execute_result"
    }
   ],
   "source": [
    "tuple2=tuple1+(\"Hard rock\",10)\n",
    "tuple2"
   ]
  },
  {
   "cell_type": "markdown",
   "id": "08f4141b",
   "metadata": {},
   "source": [
    "Tuple:Slicing"
   ]
  },
  {
   "cell_type": "code",
   "execution_count": 61,
   "id": "6a66392d",
   "metadata": {},
   "outputs": [
    {
     "name": "stdout",
     "output_type": "stream",
     "text": [
      "('disco', 10, 1.2, 'Hard rock')\n"
     ]
    }
   ],
   "source": [
    "print(tuple2[0:4])"
   ]
  },
  {
   "cell_type": "code",
   "execution_count": 62,
   "id": "d1fc8e04",
   "metadata": {},
   "outputs": [
    {
     "data": {
      "text/plain": [
       "5"
      ]
     },
     "execution_count": 62,
     "metadata": {},
     "output_type": "execute_result"
    }
   ],
   "source": [
    "len(tuple2)"
   ]
  },
  {
   "cell_type": "markdown",
   "id": "5b1fdb43",
   "metadata": {},
   "source": [
    "Lists"
   ]
  },
  {
   "cell_type": "code",
   "execution_count": 63,
   "id": "d0bdcd07",
   "metadata": {},
   "outputs": [
    {
     "data": {
      "text/plain": [
       "['Michael Jackson', 10.1, 1982]"
      ]
     },
     "execution_count": 63,
     "metadata": {},
     "output_type": "execute_result"
    }
   ],
   "source": [
    "L=['Michael Jackson',10.1,1982]\n",
    "L"
   ]
  },
  {
   "cell_type": "code",
   "execution_count": 65,
   "id": "950d31d8",
   "metadata": {},
   "outputs": [
    {
     "name": "stdout",
     "output_type": "stream",
     "text": [
      "Michael Jackson\n",
      "10.1\n",
      "1982\n"
     ]
    }
   ],
   "source": [
    "print(L[0])\n",
    "print(L[1])\n",
    "print(L[2])"
   ]
  },
  {
   "cell_type": "markdown",
   "id": "9d314f69",
   "metadata": {},
   "source": [
    "QUESTION 1\n",
    "\n",
    "How do you access the last element of the following tuple: A=(0,1,2,3)? Select all possible correct answers.\n"
   ]
  },
  {
   "cell_type": "code",
   "execution_count": 44,
   "id": "c2aae648",
   "metadata": {},
   "outputs": [
    {
     "data": {
      "text/plain": [
       "3"
      ]
     },
     "execution_count": 44,
     "metadata": {},
     "output_type": "execute_result"
    }
   ],
   "source": [
    "A=(0,1,2,3)\n",
    "A[3]"
   ]
  },
  {
   "cell_type": "markdown",
   "id": "b66bbdce",
   "metadata": {},
   "source": [
    "QUESTION 2\n",
    "\n",
    "Consider the list: B=[\"a\",\"b\",\"c\"].\n",
    "\n",
    "What is the result of the following B[1:]?"
   ]
  },
  {
   "cell_type": "code",
   "execution_count": 41,
   "id": "7ed4f2be",
   "metadata": {},
   "outputs": [
    {
     "data": {
      "text/plain": [
       "['a', 'b', 'c']"
      ]
     },
     "execution_count": 41,
     "metadata": {},
     "output_type": "execute_result"
    }
   ],
   "source": [
    "B=[\"a\",\"b\",\"c\"]\n",
    "B"
   ]
  },
  {
   "cell_type": "code",
   "execution_count": 42,
   "id": "0dc917b4",
   "metadata": {},
   "outputs": [
    {
     "data": {
      "text/plain": [
       "['b', 'c']"
      ]
     },
     "execution_count": 42,
     "metadata": {},
     "output_type": "execute_result"
    }
   ],
   "source": [
    "B[1:]"
   ]
  },
  {
   "cell_type": "markdown",
   "id": "552dc00a",
   "metadata": {},
   "source": [
    "Sets"
   ]
  },
  {
   "cell_type": "code",
   "execution_count": 80,
   "id": "ec58afe6",
   "metadata": {},
   "outputs": [
    {
     "data": {
      "text/plain": [
       "{'Disco', 'Hard Rock', 'Pop', 'R&B', 'Rock', 'Soul'}"
      ]
     },
     "execution_count": 80,
     "metadata": {},
     "output_type": "execute_result"
    }
   ],
   "source": [
    "Set1={\"Pop\",\"Rock\",\"Soul\",\"Hard Rock\",\"Rock\",\"R&B\",\"Rock\",\"Disco\"}\n",
    "Set1"
   ]
  },
  {
   "cell_type": "markdown",
   "id": "8c5b0a1f",
   "metadata": {},
   "source": [
    "Convertiendo list a set"
   ]
  },
  {
   "cell_type": "code",
   "execution_count": 81,
   "id": "6c7a7255",
   "metadata": {},
   "outputs": [
    {
     "data": {
      "text/plain": [
       "['Michael Jackson', 'Thriller', 'Thriller', 1982]"
      ]
     },
     "execution_count": 81,
     "metadata": {},
     "output_type": "execute_result"
    }
   ],
   "source": [
    "Album_list=[\"Michael Jackson\",\"Thriller\",\"Thriller\",1982]\n",
    "Album_list"
   ]
  },
  {
   "cell_type": "code",
   "execution_count": 85,
   "id": "965ee130",
   "metadata": {},
   "outputs": [
    {
     "data": {
      "text/plain": [
       "{1982, 'Michael Jackson', 'Thriller'}"
      ]
     },
     "execution_count": 85,
     "metadata": {},
     "output_type": "execute_result"
    }
   ],
   "source": [
    "Album_set=set(Album_list)\n",
    "Album_set"
   ]
  },
  {
   "cell_type": "markdown",
   "id": "35688c1d",
   "metadata": {},
   "source": [
    "QUESTION 1\n",
    "\n",
    "What is the result of the following lines of code:\n"
   ]
  },
  {
   "cell_type": "code",
   "execution_count": 96,
   "id": "ba15d07b",
   "metadata": {},
   "outputs": [
    {
     "data": {
      "text/plain": [
       "{'A', 'B', 'C', 'Z'}"
      ]
     },
     "execution_count": 96,
     "metadata": {},
     "output_type": "execute_result"
    }
   ],
   "source": [
    "S={'A','B','C'}\n",
    "\n",
    "U={'A','Z','C'}\n",
    "\n",
    "U.union(S)"
   ]
  },
  {
   "cell_type": "markdown",
   "id": "62fbae5c",
   "metadata": {},
   "source": [
    "QUESTION 2\n",
    "\n",
    "What is the intersection of set S and U?\n",
    "S={'A','B','C'}\n",
    "\n",
    "U={'A','Z','C'}\n",
    "\n",
    "Answer: {'A', 'C'}"
   ]
  },
  {
   "cell_type": "markdown",
   "id": "edb91cbf",
   "metadata": {},
   "source": [
    "Dictionaries"
   ]
  },
  {
   "cell_type": "code",
   "execution_count": 107,
   "id": "c953075e",
   "metadata": {},
   "outputs": [
    {
     "data": {
      "text/plain": [
       "{'Thrieller': 1982,\n",
       " 'Back in Black': 1980,\n",
       " 'The Darck side of the moon': 1973,\n",
       " 'The boyguard': 1992}"
      ]
     },
     "execution_count": 107,
     "metadata": {},
     "output_type": "execute_result"
    }
   ],
   "source": [
    "dict={\"Thrieller\":1982,\"Back in Black\":1980,\"The Darck side of the moon\":1973,\"The boyguard\":1992}\n",
    "dict"
   ]
  },
  {
   "cell_type": "code",
   "execution_count": 108,
   "id": "bd330e9a",
   "metadata": {},
   "outputs": [
    {
     "data": {
      "text/plain": [
       "{'Thrieller': 1982,\n",
       " 'Back in Black': 1980,\n",
       " 'The Darck side of the moon': 1973,\n",
       " 'The boyguard': 1992,\n",
       " 'Graduation': '2007'}"
      ]
     },
     "execution_count": 108,
     "metadata": {},
     "output_type": "execute_result"
    }
   ],
   "source": [
    "dict['Graduation']='2007'\n",
    "dict"
   ]
  },
  {
   "cell_type": "code",
   "execution_count": 109,
   "id": "354dc681",
   "metadata": {},
   "outputs": [
    {
     "data": {
      "text/plain": [
       "True"
      ]
     },
     "execution_count": 109,
     "metadata": {},
     "output_type": "execute_result"
    }
   ],
   "source": [
    "'The boyguard' in dict"
   ]
  },
  {
   "cell_type": "code",
   "execution_count": 110,
   "id": "11ffeb3a",
   "metadata": {},
   "outputs": [
    {
     "data": {
      "text/plain": [
       "False"
      ]
     },
     "execution_count": 110,
     "metadata": {},
     "output_type": "execute_result"
    }
   ],
   "source": [
    "'Star boy' in dict"
   ]
  },
  {
   "cell_type": "code",
   "execution_count": 111,
   "id": "dfd236c6",
   "metadata": {},
   "outputs": [
    {
     "data": {
      "text/plain": [
       "dict_keys(['Thrieller', 'Back in Black', 'The Darck side of the moon', 'The boyguard', 'Graduation'])"
      ]
     },
     "execution_count": 111,
     "metadata": {},
     "output_type": "execute_result"
    }
   ],
   "source": [
    "dict.keys()"
   ]
  },
  {
   "cell_type": "markdown",
   "id": "995c437a",
   "metadata": {},
   "source": [
    "QUESTION 1\n",
    "\n",
    "Consider the following dictionary:\n",
    "\n",
    "D = {'a':0,'b':1,'c':2}\n",
    "\n",
    "What is the result of the following: D.values()?"
   ]
  },
  {
   "cell_type": "code",
   "execution_count": 112,
   "id": "67b143e6",
   "metadata": {},
   "outputs": [
    {
     "data": {
      "text/plain": [
       "{'a': 0, 'b': 1, 'c': 2}"
      ]
     },
     "execution_count": 112,
     "metadata": {},
     "output_type": "execute_result"
    }
   ],
   "source": [
    "D = {'a':0,'b':1,'c':2}\n",
    "D"
   ]
  },
  {
   "cell_type": "code",
   "execution_count": 113,
   "id": "eb809d6c",
   "metadata": {},
   "outputs": [
    {
     "data": {
      "text/plain": [
       "dict_values([0, 1, 2])"
      ]
     },
     "execution_count": 113,
     "metadata": {},
     "output_type": "execute_result"
    }
   ],
   "source": [
    "D.values()"
   ]
  },
  {
   "cell_type": "markdown",
   "id": "29f7097e",
   "metadata": {},
   "source": [
    "QUESTION 2\n",
    "\n",
    "Consider the following dictionary:\n",
    "\n",
    "D = {'a':0,'b':1,'c':2}\n",
    "What is the output of the following D['b']?"
   ]
  },
  {
   "cell_type": "code",
   "execution_count": 114,
   "id": "79341913",
   "metadata": {},
   "outputs": [
    {
     "data": {
      "text/plain": [
       "1"
      ]
     },
     "execution_count": 114,
     "metadata": {},
     "output_type": "execute_result"
    }
   ],
   "source": [
    "D['b']"
   ]
  },
  {
   "cell_type": "markdown",
   "id": "28dfad7a",
   "metadata": {},
   "source": [
    "Review Questions"
   ]
  },
  {
   "cell_type": "markdown",
   "id": "3438b43f",
   "metadata": {},
   "source": [
    "Question 1\n",
    "\n",
    "What is the syntax used to obtain the first element of the tuple:\n",
    "\n",
    "A = ('a','b','c')"
   ]
  },
  {
   "cell_type": "code",
   "execution_count": 116,
   "id": "65067f17",
   "metadata": {},
   "outputs": [
    {
     "data": {
      "text/plain": [
       "('a', 'b', 'c')"
      ]
     },
     "execution_count": 116,
     "metadata": {},
     "output_type": "execute_result"
    }
   ],
   "source": [
    "A = ('a','b','c')\n",
    "A"
   ]
  },
  {
   "cell_type": "code",
   "execution_count": 117,
   "id": "9d095214",
   "metadata": {},
   "outputs": [
    {
     "data": {
      "text/plain": [
       "'a'"
      ]
     },
     "execution_count": 117,
     "metadata": {},
     "output_type": "execute_result"
    }
   ],
   "source": [
    "A[0]"
   ]
  },
  {
   "cell_type": "markdown",
   "id": "dbd4af68",
   "metadata": {},
   "source": [
    "Question 2\n",
    "\n",
    "After applying the following method, L.append(['a','b']), the following list will only be one element longer.\n",
    "\n",
    "Answer: False"
   ]
  },
  {
   "cell_type": "markdown",
   "id": "35956500",
   "metadata": {},
   "source": [
    "Question 3\n",
    "\n",
    "How many duplicate elements can you have in a set?\n",
    "\n",
    "Answer: 0, You can only have one unique element in a set."
   ]
  },
  {
   "cell_type": "markdown",
   "id": "1e17a08c",
   "metadata": {},
   "source": [
    "Question 4\n",
    "\n",
    "Consider the following Python dictionary:\n",
    "\n",
    "Dict={\"A\":1,\"B\":\"2\",\"C\":[3,3,3],\"D\":(4,4,4),'E':5,'F':6}\n",
    "\n",
    "What is the result of the following operation: Dict[\"D\"]?"
   ]
  },
  {
   "cell_type": "code",
   "execution_count": 121,
   "id": "643b1dac",
   "metadata": {},
   "outputs": [
    {
     "data": {
      "text/plain": [
       "{'A': 1, 'B': '2', 'C': [3, 3, 3], 'D': (4, 4, 4), 'E': 5, 'F': 6}"
      ]
     },
     "execution_count": 121,
     "metadata": {},
     "output_type": "execute_result"
    }
   ],
   "source": [
    "Dict={\"A\":1,\"B\":\"2\",\"C\":[3,3,3],\"D\":(4,4,4),'E':5,'F':6}\n",
    "Dict"
   ]
  },
  {
   "cell_type": "code",
   "execution_count": 123,
   "id": "d8caab26",
   "metadata": {},
   "outputs": [
    {
     "data": {
      "text/plain": [
       "(4, 4, 4)"
      ]
     },
     "execution_count": 123,
     "metadata": {},
     "output_type": "execute_result"
    }
   ],
   "source": [
    "Dict[\"D\"]"
   ]
  },
  {
   "cell_type": "markdown",
   "id": "7778997f",
   "metadata": {},
   "source": [
    "Question 5\n",
    "\n",
    "What is an important difference between lists and tuples?\n",
    "Answer: Lists are mutable, tuples are not."
   ]
  },
  {
   "cell_type": "markdown",
   "id": "d47c2a9e",
   "metadata": {},
   "source": [
    "# Module 3\n",
    "- Python Programming Fundamentals"
   ]
  },
  {
   "cell_type": "code",
   "execution_count": 125,
   "id": "9e253a34",
   "metadata": {},
   "outputs": [
    {
     "data": {
      "text/plain": [
       "6"
      ]
     },
     "execution_count": 125,
     "metadata": {},
     "output_type": "execute_result"
    }
   ],
   "source": [
    "a=6\n",
    "a"
   ]
  },
  {
   "cell_type": "code",
   "execution_count": 126,
   "id": "1e912fc2",
   "metadata": {},
   "outputs": [
    {
     "data": {
      "text/plain": [
       "False"
      ]
     },
     "execution_count": 126,
     "metadata": {},
     "output_type": "execute_result"
    }
   ],
   "source": [
    "a==7"
   ]
  },
  {
   "cell_type": "code",
   "execution_count": 127,
   "id": "d62a2a00",
   "metadata": {},
   "outputs": [
    {
     "data": {
      "text/plain": [
       "6"
      ]
     },
     "execution_count": 127,
     "metadata": {},
     "output_type": "execute_result"
    }
   ],
   "source": [
    "i=6\n",
    "i"
   ]
  },
  {
   "cell_type": "code",
   "execution_count": 128,
   "id": "fd15461e",
   "metadata": {},
   "outputs": [
    {
     "data": {
      "text/plain": [
       "True"
      ]
     },
     "execution_count": 128,
     "metadata": {},
     "output_type": "execute_result"
    }
   ],
   "source": [
    "i>5"
   ]
  },
  {
   "cell_type": "code",
   "execution_count": 129,
   "id": "3275f842",
   "metadata": {},
   "outputs": [
    {
     "data": {
      "text/plain": [
       "2"
      ]
     },
     "execution_count": 129,
     "metadata": {},
     "output_type": "execute_result"
    }
   ],
   "source": [
    "i=2\n",
    "i"
   ]
  },
  {
   "cell_type": "code",
   "execution_count": 130,
   "id": "a35f9536",
   "metadata": {},
   "outputs": [
    {
     "data": {
      "text/plain": [
       "False"
      ]
     },
     "execution_count": 130,
     "metadata": {},
     "output_type": "execute_result"
    }
   ],
   "source": [
    "i>=5"
   ]
  },
  {
   "cell_type": "code",
   "execution_count": 131,
   "id": "e0e3d898",
   "metadata": {},
   "outputs": [
    {
     "data": {
      "text/plain": [
       "True"
      ]
     },
     "execution_count": 131,
     "metadata": {},
     "output_type": "execute_result"
    }
   ],
   "source": [
    "i!=6"
   ]
  },
  {
   "cell_type": "code",
   "execution_count": 132,
   "id": "1fd3189e",
   "metadata": {},
   "outputs": [
    {
     "data": {
      "text/plain": [
       "False"
      ]
     },
     "execution_count": 132,
     "metadata": {},
     "output_type": "execute_result"
    }
   ],
   "source": [
    "\"AC/DC\"==\"Michael Jackson\""
   ]
  },
  {
   "cell_type": "code",
   "execution_count": 133,
   "id": "0d2498b1",
   "metadata": {},
   "outputs": [
    {
     "data": {
      "text/plain": [
       "True"
      ]
     },
     "execution_count": 133,
     "metadata": {},
     "output_type": "execute_result"
    }
   ],
   "source": [
    "\"AC/DC\"!=\"Michael Jackson\""
   ]
  },
  {
   "cell_type": "markdown",
   "id": "ef0a5b5c",
   "metadata": {},
   "source": [
    "IF Statement"
   ]
  },
  {
   "cell_type": "code",
   "execution_count": 134,
   "id": "b07087ca",
   "metadata": {},
   "outputs": [
    {
     "data": {
      "text/plain": [
       "17"
      ]
     },
     "execution_count": 134,
     "metadata": {},
     "output_type": "execute_result"
    }
   ],
   "source": [
    "age=17\n",
    "age"
   ]
  },
  {
   "cell_type": "code",
   "execution_count": 136,
   "id": "a4323722",
   "metadata": {},
   "outputs": [
    {
     "name": "stdout",
     "output_type": "stream",
     "text": [
      "Move on\n"
     ]
    }
   ],
   "source": [
    "if (age>18):\n",
    "    print(\"You can enter\")\n",
    "print(\"Move on\")"
   ]
  },
  {
   "cell_type": "code",
   "execution_count": 138,
   "id": "5b19113a",
   "metadata": {},
   "outputs": [
    {
     "name": "stdout",
     "output_type": "stream",
     "text": [
      "Go to meat loaf \n",
      "Move on\n"
     ]
    }
   ],
   "source": [
    "if (age>18):\n",
    "    print(\"You can enter\")\n",
    "else:\n",
    "    print(\"Go to meat loaf \")\n",
    "print(\"Move on\")"
   ]
  },
  {
   "cell_type": "code",
   "execution_count": 145,
   "id": "6ebbe7b7",
   "metadata": {},
   "outputs": [
    {
     "name": "stdout",
     "output_type": "stream",
     "text": [
      "You can enter\n",
      "Move on\n"
     ]
    }
   ],
   "source": [
    "if (age>16):\n",
    "    print(\"You can enter\")\n",
    "elif(age==18):\n",
    "    print(\"Go to see pink floyd\")\n",
    "else:\n",
    "    print(\"Go to meat loaf \")\n",
    "print(\"Move on\")"
   ]
  },
  {
   "cell_type": "markdown",
   "id": "553065c0",
   "metadata": {},
   "source": [
    "Logic operations"
   ]
  },
  {
   "cell_type": "code",
   "execution_count": 146,
   "id": "f3c9b35c",
   "metadata": {},
   "outputs": [
    {
     "data": {
      "text/plain": [
       "False"
      ]
     },
     "execution_count": 146,
     "metadata": {},
     "output_type": "execute_result"
    }
   ],
   "source": [
    "False or False"
   ]
  },
  {
   "cell_type": "code",
   "execution_count": 147,
   "id": "d5e9a35d",
   "metadata": {},
   "outputs": [
    {
     "data": {
      "text/plain": [
       "True"
      ]
     },
     "execution_count": 147,
     "metadata": {},
     "output_type": "execute_result"
    }
   ],
   "source": [
    "False or True"
   ]
  },
  {
   "cell_type": "code",
   "execution_count": 148,
   "id": "f9dfc1d0",
   "metadata": {},
   "outputs": [
    {
     "data": {
      "text/plain": [
       "True"
      ]
     },
     "execution_count": 148,
     "metadata": {},
     "output_type": "execute_result"
    }
   ],
   "source": [
    "True or False"
   ]
  },
  {
   "cell_type": "code",
   "execution_count": 149,
   "id": "e992ec9e",
   "metadata": {},
   "outputs": [
    {
     "data": {
      "text/plain": [
       "True"
      ]
     },
     "execution_count": 149,
     "metadata": {},
     "output_type": "execute_result"
    }
   ],
   "source": [
    "True or True"
   ]
  },
  {
   "cell_type": "code",
   "execution_count": 150,
   "id": "87890337",
   "metadata": {},
   "outputs": [
    {
     "data": {
      "text/plain": [
       "False"
      ]
     },
     "execution_count": 150,
     "metadata": {},
     "output_type": "execute_result"
    }
   ],
   "source": [
    "False and False"
   ]
  },
  {
   "cell_type": "code",
   "execution_count": 151,
   "id": "61178a37",
   "metadata": {},
   "outputs": [
    {
     "data": {
      "text/plain": [
       "False"
      ]
     },
     "execution_count": 151,
     "metadata": {},
     "output_type": "execute_result"
    }
   ],
   "source": [
    "False and True"
   ]
  },
  {
   "cell_type": "code",
   "execution_count": 152,
   "id": "e0c36fdd",
   "metadata": {},
   "outputs": [
    {
     "data": {
      "text/plain": [
       "False"
      ]
     },
     "execution_count": 152,
     "metadata": {},
     "output_type": "execute_result"
    }
   ],
   "source": [
    "True and False"
   ]
  },
  {
   "cell_type": "code",
   "execution_count": 153,
   "id": "658eaa07",
   "metadata": {},
   "outputs": [
    {
     "data": {
      "text/plain": [
       "True"
      ]
     },
     "execution_count": 153,
     "metadata": {},
     "output_type": "execute_result"
    }
   ],
   "source": [
    "True and True"
   ]
  },
  {
   "cell_type": "code",
   "execution_count": 157,
   "id": "e2db9136",
   "metadata": {},
   "outputs": [
    {
     "data": {
      "text/plain": [
       "'a'"
      ]
     },
     "execution_count": 157,
     "metadata": {},
     "output_type": "execute_result"
    }
   ],
   "source": [
    "x='a'\n",
    "x"
   ]
  },
  {
   "cell_type": "code",
   "execution_count": 159,
   "id": "cdc4f2fc",
   "metadata": {},
   "outputs": [
    {
     "name": "stdout",
     "output_type": "stream",
     "text": [
      "This is a.\n"
     ]
    }
   ],
   "source": [
    "if(x!='a'):\n",
    "    print(\"This is not a.\")\n",
    "\n",
    "else:\n",
    "    print(\"This is a.\")"
   ]
  },
  {
   "cell_type": "markdown",
   "id": "4afcfcad",
   "metadata": {},
   "source": [
    "QUESTION 1\n",
    "\n",
    "Select the values of i that produces a True for the following:\n",
    "\n",
    "i!=0\n"
   ]
  },
  {
   "cell_type": "code",
   "execution_count": 161,
   "id": "04586d18",
   "metadata": {},
   "outputs": [
    {
     "data": {
      "text/plain": [
       "1"
      ]
     },
     "execution_count": 161,
     "metadata": {},
     "output_type": "execute_result"
    }
   ],
   "source": [
    "i=1\n",
    "i"
   ]
  },
  {
   "cell_type": "code",
   "execution_count": 162,
   "id": "619837ef",
   "metadata": {},
   "outputs": [
    {
     "data": {
      "text/plain": [
       "True"
      ]
     },
     "execution_count": 162,
     "metadata": {},
     "output_type": "execute_result"
    }
   ],
   "source": [
    "i!=0"
   ]
  },
  {
   "cell_type": "markdown",
   "id": "68b38eb3",
   "metadata": {},
   "source": [
    "QUESTION 2\n",
    "\n",
    "What is the output of the following:\n",
    "\n",
    "x='a'\n",
    "\n",
    "if(x!='a'):\n",
    "\n",
    "print(\"This is not a.\")\n",
    "\n",
    "else:\n",
    "\n",
    "print(\"This is a.\")"
   ]
  },
  {
   "cell_type": "code",
   "execution_count": 163,
   "id": "ba3d4453",
   "metadata": {},
   "outputs": [
    {
     "data": {
      "text/plain": [
       "'a'"
      ]
     },
     "execution_count": 163,
     "metadata": {},
     "output_type": "execute_result"
    }
   ],
   "source": [
    "x='a'\n",
    "x"
   ]
  },
  {
   "cell_type": "code",
   "execution_count": 164,
   "id": "55445225",
   "metadata": {},
   "outputs": [
    {
     "name": "stdout",
     "output_type": "stream",
     "text": [
      "This is a.\n"
     ]
    }
   ],
   "source": [
    "if(x!='a'):\n",
    "    print(\"This is not a.\")\n",
    "\n",
    "else:\n",
    "    print(\"This is a.\")"
   ]
  },
  {
   "cell_type": "markdown",
   "id": "87116bfe",
   "metadata": {},
   "source": [
    "Loops"
   ]
  },
  {
   "cell_type": "code",
   "execution_count": 3,
   "id": "a58897f5",
   "metadata": {},
   "outputs": [
    {
     "data": {
      "text/plain": [
       "['orange', 'orange', 'purple', 'blue']"
      ]
     },
     "execution_count": 3,
     "metadata": {},
     "output_type": "execute_result"
    }
   ],
   "source": [
    "squares=['orange','orange','purple','blue']\n",
    "squares"
   ]
  },
  {
   "cell_type": "code",
   "execution_count": 10,
   "id": "df78dd41",
   "metadata": {},
   "outputs": [],
   "source": [
    "Newsquares=[]\n",
    "i=0\n",
    "\n",
    "while(squares[i]=='orange'):\n",
    "    Newsquares.append(squares[i])\n",
    "    \n",
    "    i=i+1"
   ]
  },
  {
   "cell_type": "code",
   "execution_count": null,
   "id": "6a268530",
   "metadata": {},
   "outputs": [],
   "source": []
  },
  {
   "cell_type": "code",
   "execution_count": null,
   "id": "2356ffeb",
   "metadata": {},
   "outputs": [],
   "source": []
  },
  {
   "cell_type": "code",
   "execution_count": null,
   "id": "7f827616",
   "metadata": {},
   "outputs": [],
   "source": []
  },
  {
   "cell_type": "code",
   "execution_count": null,
   "id": "c95338bf",
   "metadata": {},
   "outputs": [],
   "source": []
  },
  {
   "cell_type": "code",
   "execution_count": null,
   "id": "6aa592c8",
   "metadata": {},
   "outputs": [],
   "source": []
  },
  {
   "cell_type": "code",
   "execution_count": null,
   "id": "e54a5c21",
   "metadata": {},
   "outputs": [],
   "source": []
  },
  {
   "cell_type": "code",
   "execution_count": null,
   "id": "006cda80",
   "metadata": {},
   "outputs": [],
   "source": []
  },
  {
   "cell_type": "code",
   "execution_count": null,
   "id": "2df804ea",
   "metadata": {},
   "outputs": [],
   "source": []
  },
  {
   "cell_type": "code",
   "execution_count": null,
   "id": "5472d461",
   "metadata": {},
   "outputs": [],
   "source": []
  }
 ],
 "metadata": {
  "kernelspec": {
   "display_name": "Python 3 (ipykernel)",
   "language": "python",
   "name": "python3"
  },
  "language_info": {
   "codemirror_mode": {
    "name": "ipython",
    "version": 3
   },
   "file_extension": ".py",
   "mimetype": "text/x-python",
   "name": "python",
   "nbconvert_exporter": "python",
   "pygments_lexer": "ipython3",
   "version": "3.9.12"
  }
 },
 "nbformat": 4,
 "nbformat_minor": 5
}
