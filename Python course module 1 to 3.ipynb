{
 "cells": [
  {
   "cell_type": "markdown",
   "id": "321a7552",
   "metadata": {},
   "source": [
    "# Module 1\n",
    "- Python Basics"
   ]
  },
  {
   "cell_type": "code",
   "execution_count": 1,
   "id": "b7416068",
   "metadata": {},
   "outputs": [
    {
     "name": "stdout",
     "output_type": "stream",
     "text": [
      "Hello Python 101\n"
     ]
    }
   ],
   "source": [
    "print(\"Hello Python 101\")"
   ]
  },
  {
   "cell_type": "markdown",
   "id": "0a28605c",
   "metadata": {},
   "source": [
    "String"
   ]
  },
  {
   "cell_type": "code",
   "execution_count": 2,
   "id": "6631b2fb",
   "metadata": {},
   "outputs": [
    {
     "data": {
      "text/plain": [
       "str"
      ]
     },
     "execution_count": 2,
     "metadata": {},
     "output_type": "execute_result"
    }
   ],
   "source": [
    "type(\"Hello\")"
   ]
  },
  {
   "cell_type": "markdown",
   "id": "6fdb437f",
   "metadata": {},
   "source": [
    "Integer"
   ]
  },
  {
   "cell_type": "code",
   "execution_count": 3,
   "id": "bfe9919f",
   "metadata": {},
   "outputs": [
    {
     "data": {
      "text/plain": [
       "int"
      ]
     },
     "execution_count": 3,
     "metadata": {},
     "output_type": "execute_result"
    }
   ],
   "source": [
    "type(2)"
   ]
  },
  {
   "cell_type": "markdown",
   "id": "29fc9fbe",
   "metadata": {},
   "source": [
    "Float"
   ]
  },
  {
   "cell_type": "code",
   "execution_count": 4,
   "id": "a6f413ca",
   "metadata": {},
   "outputs": [
    {
     "data": {
      "text/plain": [
       "float"
      ]
     },
     "execution_count": 4,
     "metadata": {},
     "output_type": "execute_result"
    }
   ],
   "source": [
    "type(1.0)"
   ]
  },
  {
   "cell_type": "markdown",
   "id": "f17205de",
   "metadata": {},
   "source": [
    "Boolean"
   ]
  },
  {
   "cell_type": "code",
   "execution_count": 5,
   "id": "aa83bc2d",
   "metadata": {},
   "outputs": [
    {
     "data": {
      "text/plain": [
       "bool"
      ]
     },
     "execution_count": 5,
     "metadata": {},
     "output_type": "execute_result"
    }
   ],
   "source": [
    "type(True)"
   ]
  },
  {
   "cell_type": "markdown",
   "id": "2afb4387",
   "metadata": {},
   "source": [
    "Mathematical operations"
   ]
  },
  {
   "cell_type": "code",
   "execution_count": 11,
   "id": "63478132",
   "metadata": {},
   "outputs": [
    {
     "data": {
      "text/plain": [
       "75"
      ]
     },
     "execution_count": 11,
     "metadata": {},
     "output_type": "execute_result"
    }
   ],
   "source": [
    "25*3\n"
   ]
  },
  {
   "cell_type": "code",
   "execution_count": 16,
   "id": "109f7931",
   "metadata": {},
   "outputs": [
    {
     "data": {
      "text/plain": [
       "54"
      ]
     },
     "execution_count": 16,
     "metadata": {},
     "output_type": "execute_result"
    }
   ],
   "source": [
    "50+4"
   ]
  },
  {
   "cell_type": "code",
   "execution_count": 17,
   "id": "6c13cf63",
   "metadata": {},
   "outputs": [
    {
     "data": {
      "text/plain": [
       "38"
      ]
     },
     "execution_count": 17,
     "metadata": {},
     "output_type": "execute_result"
    }
   ],
   "source": [
    "3+5*7"
   ]
  },
  {
   "cell_type": "markdown",
   "id": "99bd88d7",
   "metadata": {},
   "source": [
    "Variables"
   ]
  },
  {
   "cell_type": "code",
   "execution_count": 23,
   "id": "cdef9c22",
   "metadata": {},
   "outputs": [
    {
     "data": {
      "text/plain": [
       "50"
      ]
     },
     "execution_count": 23,
     "metadata": {},
     "output_type": "execute_result"
    }
   ],
   "source": [
    "x= 50\n",
    "x"
   ]
  },
  {
   "cell_type": "code",
   "execution_count": 24,
   "id": "be08712d",
   "metadata": {},
   "outputs": [
    {
     "data": {
      "text/plain": [
       "150"
      ]
     },
     "execution_count": 24,
     "metadata": {},
     "output_type": "execute_result"
    }
   ],
   "source": [
    "y=x*3\n",
    "y"
   ]
  },
  {
   "cell_type": "code",
   "execution_count": 26,
   "id": "5c56bf06",
   "metadata": {},
   "outputs": [
    {
     "data": {
      "text/plain": [
       "142"
      ]
     },
     "execution_count": 26,
     "metadata": {},
     "output_type": "execute_result"
    }
   ],
   "source": [
    "total_min =43+42+57\n",
    "total_min"
   ]
  },
  {
   "cell_type": "code",
   "execution_count": 27,
   "id": "f5fc4f04",
   "metadata": {},
   "outputs": [
    {
     "data": {
      "text/plain": [
       "2.3666666666666667"
      ]
     },
     "execution_count": 27,
     "metadata": {},
     "output_type": "execute_result"
    }
   ],
   "source": [
    "total_hr=total_min/60\n",
    "total_hr"
   ]
  },
  {
   "cell_type": "code",
   "execution_count": 29,
   "id": "d6d43b51",
   "metadata": {},
   "outputs": [
    {
     "name": "stdout",
     "output_type": "stream",
     "text": [
      "2\n"
     ]
    }
   ],
   "source": [
    "print(int(total_hr))"
   ]
  },
  {
   "cell_type": "markdown",
   "id": "47d9c6d5",
   "metadata": {},
   "source": [
    "Review Question 1\n",
    "\n",
    "What is the result of the following operation in Python:"
   ]
  },
  {
   "cell_type": "code",
   "execution_count": 30,
   "id": "b26e4156",
   "metadata": {},
   "outputs": [
    {
     "data": {
      "text/plain": [
       "7"
      ]
     },
     "execution_count": 30,
     "metadata": {},
     "output_type": "execute_result"
    }
   ],
   "source": [
    "3 + 2 * 2"
   ]
  },
  {
   "cell_type": "markdown",
   "id": "566d06c8",
   "metadata": {},
   "source": [
    "Review Question 2\n",
    "\n",
    "In Python, if you executed name = 'Lizz', what would be the output of print(name[0:2])?"
   ]
  },
  {
   "cell_type": "code",
   "execution_count": 32,
   "id": "b6344f58",
   "metadata": {},
   "outputs": [
    {
     "name": "stdout",
     "output_type": "stream",
     "text": [
      "Li\n"
     ]
    }
   ],
   "source": [
    "name= 'Lizz'\n",
    "print(name[0:2])"
   ]
  },
  {
   "cell_type": "markdown",
   "id": "ad477d90",
   "metadata": {},
   "source": [
    "Review Question 3\n",
    "\n",
    "In Python, if you executed var = '01234567', what would be the result of print(var[::2])?"
   ]
  },
  {
   "cell_type": "code",
   "execution_count": 33,
   "id": "e74e5fa6",
   "metadata": {},
   "outputs": [
    {
     "name": "stdout",
     "output_type": "stream",
     "text": [
      "0246\n"
     ]
    }
   ],
   "source": [
    "var='01234567'\n",
    "print(var[::2])"
   ]
  },
  {
   "cell_type": "markdown",
   "id": "f333acf4",
   "metadata": {},
   "source": [
    "Review Question 4\n",
    "\n",
    "In Python, what is the result of the following operation '1'+'2'?"
   ]
  },
  {
   "cell_type": "code",
   "execution_count": 34,
   "id": "5f6a9a69",
   "metadata": {},
   "outputs": [
    {
     "data": {
      "text/plain": [
       "'12'"
      ]
     },
     "execution_count": 34,
     "metadata": {},
     "output_type": "execute_result"
    }
   ],
   "source": [
    "'1'+'2'"
   ]
  },
  {
   "cell_type": "markdown",
   "id": "090f9bef",
   "metadata": {},
   "source": [
    "Review Question 5\n",
    "\n",
    "Given myvar = 'hello', how would you convert myvar into uppercase?"
   ]
  },
  {
   "cell_type": "code",
   "execution_count": 37,
   "id": "a4f48384",
   "metadata": {},
   "outputs": [
    {
     "data": {
      "text/plain": [
       "'HELLO'"
      ]
     },
     "execution_count": 37,
     "metadata": {},
     "output_type": "execute_result"
    }
   ],
   "source": [
    "myvar = 'hello'\n",
    "myvar.upper()"
   ]
  },
  {
   "cell_type": "markdown",
   "id": "af2498cd",
   "metadata": {},
   "source": [
    "# Module 2\n",
    "- Python Data Structures"
   ]
  },
  {
   "cell_type": "markdown",
   "id": "1610b027",
   "metadata": {},
   "source": [
    "Tuples"
   ]
  },
  {
   "cell_type": "code",
   "execution_count": 45,
   "id": "a6fe71e7",
   "metadata": {},
   "outputs": [
    {
     "data": {
      "text/plain": [
       "('disco', 10, 1.2)"
      ]
     },
     "execution_count": 45,
     "metadata": {},
     "output_type": "execute_result"
    }
   ],
   "source": [
    "tuple1 =(\"disco\",10,1.2)\n",
    "tuple1"
   ]
  },
  {
   "cell_type": "code",
   "execution_count": 54,
   "id": "4353964d",
   "metadata": {},
   "outputs": [
    {
     "name": "stdout",
     "output_type": "stream",
     "text": [
      "disco\n"
     ]
    }
   ],
   "source": [
    "print(tuple1[0])"
   ]
  },
  {
   "cell_type": "code",
   "execution_count": 58,
   "id": "6527b863",
   "metadata": {},
   "outputs": [
    {
     "data": {
      "text/plain": [
       "('disco', 10, 1.2, 'Hard rock', 10)"
      ]
     },
     "execution_count": 58,
     "metadata": {},
     "output_type": "execute_result"
    }
   ],
   "source": [
    "tuple2=tuple1+(\"Hard rock\",10)\n",
    "tuple2"
   ]
  },
  {
   "cell_type": "markdown",
   "id": "3273935a",
   "metadata": {},
   "source": [
    "Tuple:Slicing"
   ]
  },
  {
   "cell_type": "code",
   "execution_count": 61,
   "id": "f2fecedc",
   "metadata": {},
   "outputs": [
    {
     "name": "stdout",
     "output_type": "stream",
     "text": [
      "('disco', 10, 1.2, 'Hard rock')\n"
     ]
    }
   ],
   "source": [
    "print(tuple2[0:4])"
   ]
  },
  {
   "cell_type": "code",
   "execution_count": 62,
   "id": "00891dc5",
   "metadata": {},
   "outputs": [
    {
     "data": {
      "text/plain": [
       "5"
      ]
     },
     "execution_count": 62,
     "metadata": {},
     "output_type": "execute_result"
    }
   ],
   "source": [
    "len(tuple2)"
   ]
  },
  {
   "cell_type": "markdown",
   "id": "d5a9a05e",
   "metadata": {},
   "source": [
    "Lists"
   ]
  },
  {
   "cell_type": "code",
   "execution_count": 63,
   "id": "090c7ba8",
   "metadata": {},
   "outputs": [
    {
     "data": {
      "text/plain": [
       "['Michael Jackson', 10.1, 1982]"
      ]
     },
     "execution_count": 63,
     "metadata": {},
     "output_type": "execute_result"
    }
   ],
   "source": [
    "L=['Michael Jackson',10.1,1982]\n",
    "L"
   ]
  },
  {
   "cell_type": "code",
   "execution_count": 65,
   "id": "40bf316c",
   "metadata": {},
   "outputs": [
    {
     "name": "stdout",
     "output_type": "stream",
     "text": [
      "Michael Jackson\n",
      "10.1\n",
      "1982\n"
     ]
    }
   ],
   "source": [
    "print(L[0])\n",
    "print(L[1])\n",
    "print(L[2])"
   ]
  },
  {
   "cell_type": "markdown",
   "id": "d976e794",
   "metadata": {},
   "source": [
    "QUESTION 1\n",
    "\n",
    "How do you access the last element of the following tuple: A=(0,1,2,3)? Select all possible correct answers.\n"
   ]
  },
  {
   "cell_type": "code",
   "execution_count": 44,
   "id": "334adcec",
   "metadata": {},
   "outputs": [
    {
     "data": {
      "text/plain": [
       "3"
      ]
     },
     "execution_count": 44,
     "metadata": {},
     "output_type": "execute_result"
    }
   ],
   "source": [
    "A=(0,1,2,3)\n",
    "A[3]"
   ]
  },
  {
   "cell_type": "markdown",
   "id": "3943aec6",
   "metadata": {},
   "source": [
    "QUESTION 2\n",
    "\n",
    "Consider the list: B=[\"a\",\"b\",\"c\"].\n",
    "\n",
    "What is the result of the following B[1:]?"
   ]
  },
  {
   "cell_type": "code",
   "execution_count": 41,
   "id": "b2bd1590",
   "metadata": {},
   "outputs": [
    {
     "data": {
      "text/plain": [
       "['a', 'b', 'c']"
      ]
     },
     "execution_count": 41,
     "metadata": {},
     "output_type": "execute_result"
    }
   ],
   "source": [
    "B=[\"a\",\"b\",\"c\"]\n",
    "B"
   ]
  },
  {
   "cell_type": "code",
   "execution_count": 42,
   "id": "8093f6f8",
   "metadata": {},
   "outputs": [
    {
     "data": {
      "text/plain": [
       "['b', 'c']"
      ]
     },
     "execution_count": 42,
     "metadata": {},
     "output_type": "execute_result"
    }
   ],
   "source": [
    "B[1:]"
   ]
  },
  {
   "cell_type": "markdown",
   "id": "32ff273e",
   "metadata": {},
   "source": [
    "Sets"
   ]
  },
  {
   "cell_type": "code",
   "execution_count": 80,
   "id": "1bdfe3f0",
   "metadata": {},
   "outputs": [
    {
     "data": {
      "text/plain": [
       "{'Disco', 'Hard Rock', 'Pop', 'R&B', 'Rock', 'Soul'}"
      ]
     },
     "execution_count": 80,
     "metadata": {},
     "output_type": "execute_result"
    }
   ],
   "source": [
    "Set1={\"Pop\",\"Rock\",\"Soul\",\"Hard Rock\",\"Rock\",\"R&B\",\"Rock\",\"Disco\"}\n",
    "Set1"
   ]
  },
  {
   "cell_type": "markdown",
   "id": "53b525e5",
   "metadata": {},
   "source": [
    "Convertiendo list a set"
   ]
  },
  {
   "cell_type": "code",
   "execution_count": 81,
   "id": "acd6a7af",
   "metadata": {},
   "outputs": [
    {
     "data": {
      "text/plain": [
       "['Michael Jackson', 'Thriller', 'Thriller', 1982]"
      ]
     },
     "execution_count": 81,
     "metadata": {},
     "output_type": "execute_result"
    }
   ],
   "source": [
    "Album_list=[\"Michael Jackson\",\"Thriller\",\"Thriller\",1982]\n",
    "Album_list"
   ]
  },
  {
   "cell_type": "code",
   "execution_count": 85,
   "id": "246a056a",
   "metadata": {},
   "outputs": [
    {
     "data": {
      "text/plain": [
       "{1982, 'Michael Jackson', 'Thriller'}"
      ]
     },
     "execution_count": 85,
     "metadata": {},
     "output_type": "execute_result"
    }
   ],
   "source": [
    "Album_set=set(Album_list)\n",
    "Album_set"
   ]
  },
  {
   "cell_type": "markdown",
   "id": "aaa3c23e",
   "metadata": {},
   "source": [
    "QUESTION 1\n",
    "\n",
    "What is the result of the following lines of code:\n"
   ]
  },
  {
   "cell_type": "code",
   "execution_count": 96,
   "id": "5703458a",
   "metadata": {},
   "outputs": [
    {
     "data": {
      "text/plain": [
       "{'A', 'B', 'C', 'Z'}"
      ]
     },
     "execution_count": 96,
     "metadata": {},
     "output_type": "execute_result"
    }
   ],
   "source": [
    "S={'A','B','C'}\n",
    "\n",
    "U={'A','Z','C'}\n",
    "\n",
    "U.union(S)"
   ]
  },
  {
   "cell_type": "markdown",
   "id": "696eaef5",
   "metadata": {},
   "source": [
    "QUESTION 2\n",
    "\n",
    "What is the intersection of set S and U?\n",
    "S={'A','B','C'}\n",
    "\n",
    "U={'A','Z','C'}\n",
    "\n",
    "Answer: {'A', 'C'}"
   ]
  },
  {
   "cell_type": "markdown",
   "id": "b5a581c6",
   "metadata": {},
   "source": [
    "Dictionaries"
   ]
  },
  {
   "cell_type": "code",
   "execution_count": 107,
   "id": "d25bc4f0",
   "metadata": {},
   "outputs": [
    {
     "data": {
      "text/plain": [
       "{'Thrieller': 1982,\n",
       " 'Back in Black': 1980,\n",
       " 'The Darck side of the moon': 1973,\n",
       " 'The boyguard': 1992}"
      ]
     },
     "execution_count": 107,
     "metadata": {},
     "output_type": "execute_result"
    }
   ],
   "source": [
    "dict={\"Thrieller\":1982,\"Back in Black\":1980,\"The Darck side of the moon\":1973,\"The boyguard\":1992}\n",
    "dict"
   ]
  },
  {
   "cell_type": "code",
   "execution_count": 108,
   "id": "84edecb7",
   "metadata": {},
   "outputs": [
    {
     "data": {
      "text/plain": [
       "{'Thrieller': 1982,\n",
       " 'Back in Black': 1980,\n",
       " 'The Darck side of the moon': 1973,\n",
       " 'The boyguard': 1992,\n",
       " 'Graduation': '2007'}"
      ]
     },
     "execution_count": 108,
     "metadata": {},
     "output_type": "execute_result"
    }
   ],
   "source": [
    "dict['Graduation']='2007'\n",
    "dict"
   ]
  },
  {
   "cell_type": "code",
   "execution_count": 109,
   "id": "28bc5cfa",
   "metadata": {},
   "outputs": [
    {
     "data": {
      "text/plain": [
       "True"
      ]
     },
     "execution_count": 109,
     "metadata": {},
     "output_type": "execute_result"
    }
   ],
   "source": [
    "'The boyguard' in dict"
   ]
  },
  {
   "cell_type": "code",
   "execution_count": 110,
   "id": "1d0f12de",
   "metadata": {},
   "outputs": [
    {
     "data": {
      "text/plain": [
       "False"
      ]
     },
     "execution_count": 110,
     "metadata": {},
     "output_type": "execute_result"
    }
   ],
   "source": [
    "'Star boy' in dict"
   ]
  },
  {
   "cell_type": "code",
   "execution_count": 111,
   "id": "0dc494bb",
   "metadata": {},
   "outputs": [
    {
     "data": {
      "text/plain": [
       "dict_keys(['Thrieller', 'Back in Black', 'The Darck side of the moon', 'The boyguard', 'Graduation'])"
      ]
     },
     "execution_count": 111,
     "metadata": {},
     "output_type": "execute_result"
    }
   ],
   "source": [
    "dict.keys()"
   ]
  },
  {
   "cell_type": "markdown",
   "id": "77c01215",
   "metadata": {},
   "source": [
    "QUESTION 1\n",
    "\n",
    "Consider the following dictionary:\n",
    "\n",
    "D = {'a':0,'b':1,'c':2}\n",
    "\n",
    "What is the result of the following: D.values()?"
   ]
  },
  {
   "cell_type": "code",
   "execution_count": 112,
   "id": "8b87434a",
   "metadata": {},
   "outputs": [
    {
     "data": {
      "text/plain": [
       "{'a': 0, 'b': 1, 'c': 2}"
      ]
     },
     "execution_count": 112,
     "metadata": {},
     "output_type": "execute_result"
    }
   ],
   "source": [
    "D = {'a':0,'b':1,'c':2}\n",
    "D"
   ]
  },
  {
   "cell_type": "code",
   "execution_count": 113,
   "id": "7c76ba5d",
   "metadata": {},
   "outputs": [
    {
     "data": {
      "text/plain": [
       "dict_values([0, 1, 2])"
      ]
     },
     "execution_count": 113,
     "metadata": {},
     "output_type": "execute_result"
    }
   ],
   "source": [
    "D.values()"
   ]
  },
  {
   "cell_type": "markdown",
   "id": "8dceb000",
   "metadata": {},
   "source": [
    "QUESTION 2\n",
    "\n",
    "Consider the following dictionary:\n",
    "\n",
    "D = {'a':0,'b':1,'c':2}\n",
    "What is the output of the following D['b']?"
   ]
  },
  {
   "cell_type": "code",
   "execution_count": 114,
   "id": "69f2dfb0",
   "metadata": {},
   "outputs": [
    {
     "data": {
      "text/plain": [
       "1"
      ]
     },
     "execution_count": 114,
     "metadata": {},
     "output_type": "execute_result"
    }
   ],
   "source": [
    "D['b']"
   ]
  },
  {
   "cell_type": "markdown",
   "id": "1a8f6c0e",
   "metadata": {},
   "source": [
    "Review Questions"
   ]
  },
  {
   "cell_type": "markdown",
   "id": "0d5aafd8",
   "metadata": {},
   "source": [
    "Question 1\n",
    "\n",
    "What is the syntax used to obtain the first element of the tuple:\n",
    "\n",
    "A = ('a','b','c')"
   ]
  },
  {
   "cell_type": "code",
   "execution_count": 116,
   "id": "95ae1453",
   "metadata": {},
   "outputs": [
    {
     "data": {
      "text/plain": [
       "('a', 'b', 'c')"
      ]
     },
     "execution_count": 116,
     "metadata": {},
     "output_type": "execute_result"
    }
   ],
   "source": [
    "A = ('a','b','c')\n",
    "A"
   ]
  },
  {
   "cell_type": "code",
   "execution_count": 117,
   "id": "afff12de",
   "metadata": {},
   "outputs": [
    {
     "data": {
      "text/plain": [
       "'a'"
      ]
     },
     "execution_count": 117,
     "metadata": {},
     "output_type": "execute_result"
    }
   ],
   "source": [
    "A[0]"
   ]
  },
  {
   "cell_type": "markdown",
   "id": "5942c9df",
   "metadata": {},
   "source": [
    "Question 2\n",
    "\n",
    "After applying the following method, L.append(['a','b']), the following list will only be one element longer.\n",
    "\n",
    "Answer: False"
   ]
  },
  {
   "cell_type": "markdown",
   "id": "b917c3e6",
   "metadata": {},
   "source": [
    "Question 3\n",
    "\n",
    "How many duplicate elements can you have in a set?\n",
    "\n",
    "Answer: 0, You can only have one unique element in a set."
   ]
  },
  {
   "cell_type": "markdown",
   "id": "0720c509",
   "metadata": {},
   "source": [
    "Question 4\n",
    "\n",
    "Consider the following Python dictionary:\n",
    "\n",
    "Dict={\"A\":1,\"B\":\"2\",\"C\":[3,3,3],\"D\":(4,4,4),'E':5,'F':6}\n",
    "\n",
    "What is the result of the following operation: Dict[\"D\"]?"
   ]
  },
  {
   "cell_type": "code",
   "execution_count": 121,
   "id": "56479323",
   "metadata": {},
   "outputs": [
    {
     "data": {
      "text/plain": [
       "{'A': 1, 'B': '2', 'C': [3, 3, 3], 'D': (4, 4, 4), 'E': 5, 'F': 6}"
      ]
     },
     "execution_count": 121,
     "metadata": {},
     "output_type": "execute_result"
    }
   ],
   "source": [
    "Dict={\"A\":1,\"B\":\"2\",\"C\":[3,3,3],\"D\":(4,4,4),'E':5,'F':6}\n",
    "Dict"
   ]
  },
  {
   "cell_type": "code",
   "execution_count": 123,
   "id": "a2cc728a",
   "metadata": {},
   "outputs": [
    {
     "data": {
      "text/plain": [
       "(4, 4, 4)"
      ]
     },
     "execution_count": 123,
     "metadata": {},
     "output_type": "execute_result"
    }
   ],
   "source": [
    "Dict[\"D\"]"
   ]
  },
  {
   "cell_type": "markdown",
   "id": "c8296b3b",
   "metadata": {},
   "source": [
    "Question 5\n",
    "\n",
    "What is an important difference between lists and tuples?\n",
    "Answer: Lists are mutable, tuples are not."
   ]
  },
  {
   "cell_type": "code",
   "execution_count": null,
   "id": "2e6d33e4",
   "metadata": {},
   "outputs": [],
   "source": []
  },
  {
   "cell_type": "code",
   "execution_count": null,
   "id": "b6dcc93f",
   "metadata": {},
   "outputs": [],
   "source": []
  },
  {
   "cell_type": "code",
   "execution_count": null,
   "id": "17e1b71e",
   "metadata": {},
   "outputs": [],
   "source": []
  },
  {
   "cell_type": "code",
   "execution_count": null,
   "id": "a3e93fd2",
   "metadata": {},
   "outputs": [],
   "source": []
  },
  {
   "cell_type": "code",
   "execution_count": null,
   "id": "7ea5ddf8",
   "metadata": {},
   "outputs": [],
   "source": []
  }
 ],
 "metadata": {
  "kernelspec": {
   "display_name": "Python 3 (ipykernel)",
   "language": "python",
   "name": "python3"
  },
  "language_info": {
   "codemirror_mode": {
    "name": "ipython",
    "version": 3
   },
   "file_extension": ".py",
   "mimetype": "text/x-python",
   "name": "python",
   "nbconvert_exporter": "python",
   "pygments_lexer": "ipython3",
   "version": "3.9.12"
  }
 },
 "nbformat": 4,
 "nbformat_minor": 5
}
