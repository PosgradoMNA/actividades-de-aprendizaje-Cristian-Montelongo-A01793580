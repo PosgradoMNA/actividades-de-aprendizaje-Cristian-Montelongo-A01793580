{
 "cells": [
  {
   "cell_type": "markdown",
   "id": "dc0fb7d2",
   "metadata": {},
   "source": [
    "# Semana 7: Data Analysis with Python (IBM) Module 4\n",
    "### Nombre: Cristian Jhovany Montelongo Medina\n",
    "### Matricula:  A01793580"
   ]
  },
  {
   "cell_type": "markdown",
   "id": "412afae8",
   "metadata": {},
   "source": [
    "**Question 1**\n",
    "\n",
    "Let X be a dataframe with 100 rows and 5 columns. Let y be the target with 100 samples. Assuming all the relevant libraries and data have been imported, the following line of code has been executed:\n",
    "\n",
    "LR = LinearRegression()\n",
    "\n",
    "LR.fit(X, y)\n",
    "\n",
    "yhat = LR.predict(X)\n",
    "\n",
    "How many samples does yhat contain?\n",
    "\n",
    "**Answer:** 100 Samples"
   ]
  },
  {
   "cell_type": "markdown",
   "id": "d7266595",
   "metadata": {},
   "source": [
    "**Question 2**\n",
    "\n",
    "What value of R^2 (coefficient of determination) indicates your model performs best?\n",
    "\n",
    "**Answer:** 1"
   ]
  },
  {
   "cell_type": "markdown",
   "id": "694787c0",
   "metadata": {},
   "source": [
    "**Question 3**\n",
    "\n",
    "Which statement is true about polynomial linear regression?\n",
    "\n",
    "**Answer:** Although the predictor variables of polynomial linear regression are not linear, the relationship between the parameters or coefficients is linear."
   ]
  },
  {
   "cell_type": "markdown",
   "id": "a382926b",
   "metadata": {},
   "source": [
    "**Question 4**\n",
    "\n",
    "The larger the mean squared error, the better your model performs:\n",
    "\n",
    "**Answer:** False"
   ]
  },
  {
   "cell_type": "markdown",
   "id": "2c85e20b",
   "metadata": {},
   "source": [
    "**Question 5**\n",
    "\n",
    "Assume all the libraries are imported. y is the target and X is the features or dependent variables. Consider the following lines of code:\n",
    "\n",
    "Input=[('scale',StandardScaler()),('model',LinearRegression())]\n",
    "\n",
    "pipe=Pipeline(Input)\n",
    "\n",
    "pipe.fit(X,y)\n",
    "\n",
    "ypipe=pipe.predict(X)\n",
    "\n",
    "What is the result of ypipe?\n",
    "\n",
    "**Answer:** Standardize the data, then perform prediction using a linear regression model."
   ]
  }
 ],
 "metadata": {
  "kernelspec": {
   "display_name": "Python 3 (ipykernel)",
   "language": "python",
   "name": "python3"
  },
  "language_info": {
   "codemirror_mode": {
    "name": "ipython",
    "version": 3
   },
   "file_extension": ".py",
   "mimetype": "text/x-python",
   "name": "python",
   "nbconvert_exporter": "python",
   "pygments_lexer": "ipython3",
   "version": "3.9.12"
  }
 },
 "nbformat": 4,
 "nbformat_minor": 5
}
