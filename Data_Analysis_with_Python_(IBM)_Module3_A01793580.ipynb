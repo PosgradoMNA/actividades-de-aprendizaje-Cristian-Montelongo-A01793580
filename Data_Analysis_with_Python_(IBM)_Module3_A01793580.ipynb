{
 "cells": [
  {
   "cell_type": "markdown",
   "id": "e214f49a",
   "metadata": {},
   "source": [
    "# Data Analysis with Python (IBM)- Module 3"
   ]
  },
  {
   "cell_type": "markdown",
   "id": "1fb0320a",
   "metadata": {},
   "source": [
    "#### Question 1\n",
    "\n",
    "Consider the dataframe \"df\". What method provides the summary statistics?\n",
    "\n",
    "Answer: df.describe()"
   ]
  },
  {
   "cell_type": "markdown",
   "id": "785b2585",
   "metadata": {},
   "source": [
    "#### Question 2\n",
    "\n",
    "Consider the following dataframe:\n",
    "\n",
    "df_test = df['body-style', 'price']\n",
    "\n",
    "The following operation is applied:\n",
    "\n",
    "df_grp = df_test.groupby(['body-style'], as_index=False).mean()\n",
    "\n",
    "**What are resulting values of df_grp[‘price’]?**\n",
    "\n",
    "Answer: The average price for each body style.\n"
   ]
  },
  {
   "cell_type": "markdown",
   "id": "74cd864c",
   "metadata": {},
   "source": [
    "#### Question 3\n",
    "\n",
    "Correlation implies causation:\n",
    "\n",
    "Answer: False"
   ]
  },
  {
   "cell_type": "markdown",
   "id": "d3e99602",
   "metadata": {},
   "source": [
    "#### Question 4\n",
    "\n",
    "What is the minimum possible value of Pearson's Correlation?\n",
    "\n",
    "Answer: -1"
   ]
  },
  {
   "cell_type": "markdown",
   "id": "0b125692",
   "metadata": {},
   "source": [
    "#### Question 5\n",
    "\n",
    "What is the Pearson correlation between variables X and Y if X=Y:\n",
    "\n",
    "Answer: 1"
   ]
  }
 ],
 "metadata": {
  "kernelspec": {
   "display_name": "Python 3 (ipykernel)",
   "language": "python",
   "name": "python3"
  },
  "language_info": {
   "codemirror_mode": {
    "name": "ipython",
    "version": 3
   },
   "file_extension": ".py",
   "mimetype": "text/x-python",
   "name": "python",
   "nbconvert_exporter": "python",
   "pygments_lexer": "ipython3",
   "version": "3.9.12"
  }
 },
 "nbformat": 4,
 "nbformat_minor": 5
}
